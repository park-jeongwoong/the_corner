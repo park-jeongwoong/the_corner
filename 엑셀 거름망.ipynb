{
 "cells": [
  {
   "cell_type": "code",
   "execution_count": 16,
   "id": "0fec0d88",
   "metadata": {},
   "outputs": [
    {
     "name": "stdout",
     "output_type": "stream",
     "text": [
      "names 리스트의 원소 개수: 222\n",
      "cosdaq 리스트의 원소 개수: 34\n",
      "last 리스트의 원소 개수: 188\n"
     ]
    }
   ],
   "source": [
    "   \n",
    "import csv\n",
    "\n",
    "with open('파일1.csv', 'r', encoding='cp949') as file:\n",
    "    reader = csv.reader(file)\n",
    "    names = []\n",
    "    for row in reader:\n",
    "        row = [item.strip() for item in row]\n",
    "        # 행당 하나의 리스트로 만들어주기\n",
    "        row_list = [item for item in row if item.strip()]  # Filter out empty strings or whitespace\n",
    "        names.append(row_list)\n",
    "\n",
    "# 결과 확인\n",
    "# print(names)\n",
    "\n",
    "# 기준에서 리스트 가져오기\n",
    "cosdaq = []\n",
    "with open('파일2.csv', 'r', encoding='cp949') as file2:\n",
    "    reader2 = csv.reader(file2)\n",
    "    for row in reader2:\n",
    "        if row:  # Check if row is not empty\n",
    "            cosdaq.append(row[0].strip())\n",
    "\n",
    "\n",
    "# 결과 확인\n",
    "# print(\"cosdaq 리스트:\", cosdaq)\n",
    "\n",
    "\n",
    "last = []\n",
    "for row in names:\n",
    "    if row[0] in cosdaq:\n",
    "        continue\n",
    "    last.append(row)\n",
    "\n",
    "# 결과 확인\n",
    "# print(last)\n",
    "\n",
    "\n",
    "print(\"names 리스트의 원소 개수:\", len(names))\n",
    "print(\"cosdaq 리스트의 원소 개수:\", len(cosdaq))\n",
    "print(\"last 리스트의 원소 개수:\", len(last))\n"
   ]
  },
  {
   "cell_type": "code",
   "execution_count": 18,
   "id": "8da4961e",
   "metadata": {},
   "outputs": [],
   "source": [
    "import pandas as pd\n",
    "\n",
    "# last 리스트를 DataFrame으로 변환\n",
    "df = pd.DataFrame(last)\n",
    "\n",
    "# 엑셀로 저장\n",
    "df.to_excel('선정기준 3번째 ∩ 코스닥.xlsx', index=False, header=False)\n"
   ]
  }
 ],
 "metadata": {
  "kernelspec": {
   "display_name": "Python 3 (ipykernel)",
   "language": "python",
   "name": "python3"
  },
  "language_info": {
   "codemirror_mode": {
    "name": "ipython",
    "version": 3
   },
   "file_extension": ".py",
   "mimetype": "text/x-python",
   "name": "python",
   "nbconvert_exporter": "python",
   "pygments_lexer": "ipython3",
   "version": "3.9.7"
  }
 },
 "nbformat": 4,
 "nbformat_minor": 5
}
